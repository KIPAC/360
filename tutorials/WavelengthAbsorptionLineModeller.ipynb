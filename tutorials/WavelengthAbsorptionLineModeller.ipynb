{
 "cells": [
  {
   "cell_type": "code",
   "execution_count": 1,
   "metadata": {},
   "outputs": [
    {
     "data": {
      "application/vnd.jupyter.widget-view+json": {
       "model_id": "02f5aa6f46414b1f8bb18a463cd13721",
       "version_major": 2,
       "version_minor": 0
      },
      "text/plain": [
       "interactive(children=(FloatLogSlider(value=1216.0, description='λ₀ (Å)', max=6.0, min=2.0, step=0.0001), Radio…"
      ]
     },
     "metadata": {},
     "output_type": "display_data"
    }
   ],
   "source": [
    "import numpy as np\n",
    "import matplotlib.pyplot as plt\n",
    "import ipywidgets as widgets\n",
    "from ipywidgets import interact\n",
    "from scipy.special import wofz\n",
    "\n",
    "# Physical constants\n",
    "c = 2.998e5  # Speed of light in km/s\n",
    "c_cm_s = 2.998e10  # Speed of light in cm/s\n",
    "k_B = 1.38e-23  # Boltzmann constant in J/K\n",
    "h = 6.626e-34  # Planck's constant in J*s\n",
    "\n",
    "def voigt_profile(nu, nu_0, A21, T, m, v_shift):\n",
    "    \"\"\"Compute the Voigt profile given the input parameters.\"\"\"\n",
    "    # Doppler broadening width\n",
    "    delta_nu_D = (nu_0 / c) * np.sqrt(2 * k_B * T / m)\n",
    "\n",
    "    # Lorentzian width (natural broadening)\n",
    "    gamma_L = A21 / (4 * np.pi)\n",
    "\n",
    "    # Voigt profile parameters\n",
    "    x = (nu - nu_0 - v_shift * nu_0 / c) / delta_nu_D\n",
    "    a = gamma_L / delta_nu_D\n",
    "    \n",
    "    # Compute the Voigt profile using Faddeeva function\n",
    "    phi_V = np.real(wofz(x + 1j * a)) / (delta_nu_D * np.sqrt(np.pi))\n",
    "    \n",
    "    return phi_V\n",
    "\n",
    "def plot_profiles(lambda_0=1216, unit=\"Angstrom\", A21=6e8, T=10000, m=1.67e-24, v_shift=0, L=1e14, N1=1.0):\n",
    "    \"\"\"Plots the absorption line profile and intensity I = exp(-tau).\"\"\"\n",
    "\n",
    "    # Convert wavelength (Angstrom) to frequency (Hz)\n",
    "    nu_0 = c_cm_s / (lambda_0 * 1e-8)  # Convert Angstrom to cm then to Hz\n",
    "    \n",
    "    # Frequency range\n",
    "    nu = np.linspace(nu_0 * 0.99, nu_0 *1.01, 500)\n",
    "    \n",
    "    # Compute Voigt profile\n",
    "    phi_V = voigt_profile(nu, nu_0, A21, T, m, v_shift)\n",
    "    \n",
    "    # Compute absorption coefficient\n",
    "    B12 = (c**3 / (8 * np.pi * h * nu_0**3)) * (A21 * 2)  # Assume g2/g1 = 2 for simplicity\n",
    "    alpha_nu = (h * nu_0 / (4 * np.pi)) * B12 * N1 * phi_V\n",
    "\n",
    "    # Optical depth and intensity\n",
    "    tau = L * alpha_nu\n",
    "    I = np.exp(-tau)\n",
    "\n",
    "    # Create figure with two panels\n",
    "    fig, ax = plt.subplots(1, 2, figsize=(12, 5))\n",
    "\n",
    "    # Convert to wavelength if needed\n",
    "    if unit == \"Angstrom\":\n",
    "        wavelength = c_cm_s / nu * 1e8  # Convert Hz to Angstrom\n",
    "        xlabel = \"Wavelength (Å)\"\n",
    "    else:\n",
    "        wavelength = nu / 1e12  # Convert Hz to THz\n",
    "        xlabel = \"Frequency (THz)\"\n",
    "\n",
    "    # Plot Line Profile\n",
    "    ax[0].plot(wavelength, phi_V, label=\"Voigt Profile\", color='b')\n",
    "    ax[0].set_xlabel(xlabel)\n",
    "    ax[0].set_ylabel(r\"$\\phi_V(\\nu)$\")\n",
    "    ax[0].set_title(\"Absorption Line Profile\")\n",
    "    ax[0].legend()\n",
    "    ax[0].grid()\n",
    "\n",
    "    # Plot Intensity\n",
    "    ax[1].plot(wavelength, I, label=r\"$I = e^{-\\tau}$\", color='r')\n",
    "    ax[1].set_xlabel(xlabel)\n",
    "    ax[1].set_ylabel(\"Intensity\")\n",
    "    ax[1].set_title(\"Intensity Profile\")\n",
    "    ax[1].legend()\n",
    "    ax[1].grid()\n",
    "\n",
    "    plt.tight_layout()\n",
    "    plt.show()\n",
    "\n",
    "# Create interactive widgets\n",
    "interact(plot_profiles, \n",
    "         lambda_0=widgets.FloatLogSlider(value=1216, base=10, min=2, max=6, step=0.0001, description=\"λ₀ (Å)\"),\n",
    "         unit=widgets.RadioButtons(options=[\"THz\", \"Angstrom\"], value=\"Angstrom\", description=\"X-Axis\"),\n",
    "         A21=widgets.FloatLogSlider(value=6e8, base=10, min=-15, max=10, step=0.1, description=\"A₂₁ (s⁻¹)\"),\n",
    "         T=widgets.FloatLogSlider(value=10000, base=10, min=2, max=5, step=0.1, description=\"T (K)\"),\n",
    "         m=widgets.FloatLogSlider(value=1.67e-24, base=10, min=-28, max=-23, step=0.1, description=\"Mass (g)\"),\n",
    "         v_shift=widgets.FloatSlider(value=0, min=-1000, max=1000, step=1, description=\"Velocity (km/s)\"),\n",
    "         L=widgets.FloatLogSlider(value=1e14, base=10, min=12, max=22, step=0.1, description=\"L (cm)\"),\n",
    "         N1=widgets.FloatLogSlider(value=1.0, base=10, min=-2, max=10, step=0.1, description=\"N₁ (cm⁻³)\"));"
   ]
  }
 ],
 "metadata": {
  "kernelspec": {
   "display_name": "k3dEnv",
   "language": "python",
   "name": "python3"
  },
  "language_info": {
   "codemirror_mode": {
    "name": "ipython",
    "version": 3
   },
   "file_extension": ".py",
   "mimetype": "text/x-python",
   "name": "python",
   "nbconvert_exporter": "python",
   "pygments_lexer": "ipython3",
   "version": "3.11.11"
  }
 },
 "nbformat": 4,
 "nbformat_minor": 2
}
