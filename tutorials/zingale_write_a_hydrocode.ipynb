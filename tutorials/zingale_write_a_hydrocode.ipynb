{
 "cells": [
  {
   "cell_type": "markdown",
   "metadata": {
    "slideshow": {
     "slide_type": "slide"
    }
   },
   "source": [
    "# How To Write A Hydro Code\n",
    "\n",
    "Michael Zingale"
   ]
  },
  {
   "cell_type": "markdown",
   "metadata": {
    "slideshow": {
     "slide_type": "slide"
    }
   },
   "source": [
    "There are _many_ methods for solving the equations of hydrodynamics.  We will make some choices right from the start:\n",
    "\n",
    "  * We will consider **finite-volume methods**.  These are popular in astrophysics because they are based on the integral form of the conservative equations and properly conserve mass, momentum, and energy.\n",
    "  \n",
    "  * We will consider an **Eulerian** grid: the grid is fixed and the fluid moves through it.\n",
    "  \n",
    "  * We will be **explicit in time**: the new solution depends only on the previous state.\n",
    "  \n",
    "  * We will look at a simple 2nd order **method-of-lines** integration.  We do this for simplicity here, and will point out where things are commonly done differently.  This scheme has a much simpler spatial reconstruction than methods that do characteristic tracing and relies on an integrator (like a Runge-Kutta method) to advance in time.\n",
    "  \n",
    "  * We will work in 1-d.\n",
    "  \n",
    "  * We won't cover in detail how to write a Riemann solver (that's a math exercise as much as anything else and beyond the scope of this notebook).\n",
    "  \n",
    "  * We'll assume a gamma-law equation of state&mdash;this is often not the case in astrophysics."
   ]
  },
  {
   "cell_type": "markdown",
   "metadata": {
    "slideshow": {
     "slide_type": "slide"
    }
   },
   "source": [
    "    \n",
    "Much more in-depth details and derivations are given in my hydro notes available online: https://github.com/Open-Astrophysics-Bookshelf/numerical_exercises\n",
    "\n",
    "For a greater variety of methods, in 2-d, see the pyro code: https://github.com/python-hydro/pyro2 (ref: [Harpole et al. JOSS](http://joss.theoj.org/papers/10.21105/joss.01265))"
   ]
  },
  {
   "cell_type": "markdown",
   "metadata": {
    "slideshow": {
     "slide_type": "slide"
    }
   },
   "source": [
    "## Overview\n",
    "\n",
    "We'll focus on the Euler equations.  In 1-d, these are:\n",
    "\n",
    "\\begin{align*}\n",
    "  \\frac{\\partial \\rho}{\\partial t} + \\frac{\\partial (\\rho u)}{\\partial x} & = 0 \\\\\n",
    "  \\frac{\\partial (\\rho u)}{\\partial t} + \\frac{\\partial (\\rho u^2 + p)}{\\partial x} &= 0 \\\\\n",
    "  \\frac{\\partial (\\rho E)}{\\partial t} + \\frac{\\partial (u(\\rho E + p))}{\\partial x} &= 0 \\\\\n",
    "  \\end{align*}\n",
    "\n",
    "This is a set of (hyperbolic) partial differential equations.  To close the system, we need an equation of state, relating the specific internal energy, $e$, to the pressure:\n",
    "$$\n",
    "\\begin{align*}\n",
    "e &= E - \\frac{1}{2}u^2 \\\\\n",
    "p &= \\rho e ( \\gamma - 1 ) \\\\\n",
    "\\end{align*}\n",
    "$$"
   ]
  },
  {
   "cell_type": "markdown",
   "metadata": {
    "slideshow": {
     "slide_type": "slide"
    }
   },
   "source": [
    "To solve these, we need to discretize the equations in both space and time.  We'll use grid-based methods (in addition to the finite-volume method we'll consider, this can include finite-difference and finite-element methods).  \n",
    "\n",
    "Our system of equations can be expressed in conservative form:\n",
    "$$ \\frac{\\partial U}{\\partial t} + \\frac{\\partial F(U)}{\\partial x} = 0$$\n",
    "where $U = (\\rho, \\rho u, \\rho E)^\\intercal$ and\n",
    "$$\n",
    "F(U) = \\left ( \\begin{array}{c} \\rho u \\\\ \\rho u^2 + p \\\\ u (\\rho E + p) \\end{array} \\right )$$"
   ]
  },
  {
   "cell_type": "markdown",
   "metadata": {
    "slideshow": {
     "slide_type": "slide"
    }
   },
   "source": [
    "In a finite-volume method, we store the state of the fluid in discrete volumes in space, and we can refer to this discretized state with an index.  To see this, we integrate the conservative law system in space over a volume $[x_{i-1/2},x_{i+1/2}]$:\n",
    "$$\\frac{\\partial \\langle U\\rangle_i}{\\partial t} = - \\frac{F_{i+1/2} - F_{i-1/2}}{\\Delta x}$$\n",
    "\n",
    "This is the form of the equations we will solve.  Here, $\\langle U\\rangle_i$ represents the average state of the fluid in a volume:\n",
    "$$\\langle U\\rangle_i = \\frac{1}{\\Delta x} \\int_{x_{i-1/2}}^{x_{i+1/2}} U(x) dx$$\n",
    "Visually, we usually think of this grid as:\n",
    "\n",
    "![FV grid](https://github.com/python-hydro/how_to_write_a_hydro_code/blob/master/fv_grid.png?raw=true)"
   ]
  },
  {
   "cell_type": "markdown",
   "metadata": {
    "slideshow": {
     "slide_type": "slide"
    }
   },
   "source": [
    "The state on the grid represents an instance in time.  We evolve the state by computing the fluxes through the volumes.  These fluxes tell us how much the state changes in each volume over some small timestep, $\\Delta t$.  \n",
    "\n",
    "Our code will have the following structure:\n",
    "\n",
    "  * Create our numerical grid\n",
    "  \n",
    "  * Set the initial conditions\n",
    "  \n",
    "  * Main timestep evolution loop\n",
    "  \n",
    "    * Compute the timestep\n",
    "    \n",
    "    * Loop to advance one step (count depends on the number of stages in the integrator)\n",
    "  \n",
    "        * Reconstruct the state to interfaces\n",
    "    \n",
    "        * Solve Riemann problem to find the fluxes through the interface\n",
    "    \n",
    "        * Do a conservative update of the state to the stage\n",
    "    \n",
    "    * Output"
   ]
  },
  {
   "cell_type": "markdown",
   "metadata": {
    "slideshow": {
     "slide_type": "slide"
    }
   },
   "source": [
    "## Grid\n",
    "\n",
    "We'll manage our 1-d grid via a class `FVGrid`.  We will divide the domain into a number of zones (or volumes) that will store the state.  To implement boundary conditions, we traditionally use ghost cells--extra cells added to each end of the domain.  We'll consider a grid that looks like this:\n",
    "\n",
    "![grid w ghostcells](https://github.com/python-hydro/how_to_write_a_hydro_code/blob/master/simplegrid_gc.png?raw=true)\n",
    "\n",
    "We'll use the names `lo` and `hi` to refer to the first and last zone in our domain.  The domain boundaries are the bold lines shown above, and beyond that, on each end, we have ghost cells.\n",
    "\n",
    "The main information we need to setup the grid are the number of zones in the interior and the number of ghost cells."
   ]
  },
  {
   "cell_type": "code",
   "execution_count": 23,
   "metadata": {
    "slideshow": {
     "slide_type": "skip"
    }
   },
   "outputs": [],
   "source": [
    "import numpy as np"
   ]
  },
  {
   "cell_type": "markdown",
   "metadata": {
    "slideshow": {
     "slide_type": "slide"
    }
   },
   "source": [
    "To make life easier, we'll have a simple class with indices that we use to index the fluid state arrays.  We can pass this around and be sure that we are always accessing the correct fluid state."
   ]
  },
  {
   "cell_type": "code",
   "execution_count": 24,
   "metadata": {
    "slideshow": {
     "slide_type": "fragment"
    }
   },
   "outputs": [],
   "source": [
    "class FluidVars:\n",
    "    \"\"\"A simple container that holds the integer indicies we will use to\n",
    "    refer to the different fluid components\"\"\"\n",
    "    def __init__(self, gamma=1.4, C=0.8):\n",
    "        self.nvar = 3\n",
    "    \n",
    "        # conserved variables\n",
    "        self.urho = 0\n",
    "        self.umx = 1\n",
    "        self.uener = 2\n",
    "    \n",
    "        # primitive variables\n",
    "        self.qrho = 0\n",
    "        self.qu = 1\n",
    "        self.qp = 2\n",
    "    \n",
    "        # EOS gamma\n",
    "        self.gamma = gamma\n",
    "        \n",
    "        # CFL number\n",
    "        self.C = C"
   ]
  },
  {
   "cell_type": "markdown",
   "metadata": {
    "slideshow": {
     "slide_type": "slide"
    }
   },
   "source": [
    "This is the main class for managing the finite-volume grid.  In addition to holding coordinate information and knowing the bounds of the domain, it also can fill the ghost cells and give you a scratch array that lives on the same grid."
   ]
  },
  {
   "cell_type": "code",
   "execution_count": 25,
   "metadata": {
    "slideshow": {
     "slide_type": "slide"
    }
   },
   "outputs": [],
   "source": [
    "class FVGrid:\n",
    "    \"\"\"The main finite-volume grid class for holding our fluid state.\"\"\"\n",
    "    \n",
    "    def __init__(self, nx, ng, xmin=0.0, xmax=1.0):\n",
    "\n",
    "        self.xmin = xmin\n",
    "        self.xmax = xmax\n",
    "        self.ng = ng\n",
    "        self.nx = nx\n",
    "\n",
    "        self.lo = ng\n",
    "        self.hi = ng+nx-1\n",
    "\n",
    "        # physical coords -- cell-centered\n",
    "        self.dx = (xmax - xmin)/(nx)\n",
    "        self.x = xmin + (np.arange(nx+2*ng)-ng+0.5)*self.dx\n",
    "\n",
    "    def scratch_array(self, nc=1):\n",
    "        \"\"\" return a scratch array dimensioned for our grid \"\"\"\n",
    "        return np.squeeze(np.zeros((self.nx+2*self.ng, nc), dtype=np.float64))\n",
    "\n",
    "    def fill_BCs(self, atmp):\n",
    "        \"\"\" fill all ghost cells with zero-gradient boundary conditions \"\"\"\n",
    "        if atmp.ndim == 2:\n",
    "            for n in range(atmp.shape[-1]):\n",
    "                atmp[0:self.lo, n] = atmp[self.lo, n]\n",
    "                atmp[self.hi+1:, n] = atmp[self.hi, n]            \n",
    "        else:\n",
    "            atmp[0:self.lo] = atmp[self.lo]\n",
    "            atmp[self.hi+1:] = atmp[self.hi]"
   ]
  },
  {
   "cell_type": "markdown",
   "metadata": {
    "slideshow": {
     "slide_type": "slide"
    }
   },
   "source": [
    "## Reconstruction\n",
    "\n",
    "We need to use the cell-averages to figure out what the fluid state is on the interfaces.  We'll _reconstruct_ the cell-averages as piecewise lines that give us the same average in the zone.  We then follow these lines to the interfaces to define the left and right state at each interface."
   ]
  },
  {
   "cell_type": "markdown",
   "metadata": {
    "slideshow": {
     "slide_type": "slide"
    }
   },
   "source": [
    "Usually we work in terms of the **primitive variables**, $q = (\\rho, u, p)$.  So we first write a routine to do the algebraic transformation from conservative to primitive variables:\n",
    "$$\n",
    "\\begin{align}\n",
    "\\rho &= \\rho \\\\\n",
    "u &= \\frac{(\\rho u)}{\\rho} \\\\\n",
    "p &= \\left ( (\\rho E) - \\frac{1}{2} \\frac{(\\rho u)^2}{\\rho}\\right )(\\gamma - 1)\n",
    "\\end{align}\n",
    "$$"
   ]
  },
  {
   "cell_type": "code",
   "execution_count": 26,
   "metadata": {
    "slideshow": {
     "slide_type": "fragment"
    }
   },
   "outputs": [],
   "source": [
    "def cons_to_prim(grid, U):\n",
    "    \"\"\"take a conservative state U and return the corresponding primitive\n",
    "    variable state as a new array.\"\"\"\n",
    "    v = FluidVars()\n",
    "    q = grid.scratch_array(nc=v.nvar)\n",
    "\n",
    "    q[:, v.qrho] = U[:, v.urho]\n",
    "    q[:, v.qu] = U[:, v.umx]/U[:, v.urho]\n",
    "    rhoe = U[:, v.uener] - 0.5*q[:, v.qrho]*q[:, v.qu]**2\n",
    "    q[:, v.qp] = rhoe*(v.gamma - 1.0)\n",
    "    return q"
   ]
  },
  {
   "cell_type": "markdown",
   "metadata": {
    "slideshow": {
     "slide_type": "slide"
    }
   },
   "source": [
    "Next we need a routine to create the interface states.  Here's well construct a slope for each zone, $\\Delta q$ based on the average state in the neighboring zones.  This gives us a line representing the value of the fluid state as a function of position in each zone:\n",
    "$$q_i(x) = \\langle q\\rangle_i + \\frac{\\Delta q_i}{\\Delta x} (x - x_i)$$\n",
    "\n",
    "Note that there is a unique $q_i(x)$ for each zone&mdash;this is usually called _piecewise linear reconstruction_.  By design, the average of $q_i(x)$ over the zone is the cell-average, so it is conservative."
   ]
  },
  {
   "cell_type": "markdown",
   "metadata": {
    "slideshow": {
     "slide_type": "slide"
    }
   },
   "source": [
    "We use this equation for a line to find the fluid state right at the interface.  For zone $i$, the line $q_i(x)$ gives you the right state on the left interface, $q_{i-1/2,R}$, and the left state on the right interface, $q_{i+1/2,L}$.  Visually this looks like:\n",
    "\n",
    "![finding interface states](https://github.com/python-hydro/how_to_write_a_hydro_code/blob/master/riemann-mol.png?raw=true)"
   ]
  },
  {
   "cell_type": "markdown",
   "metadata": {
    "slideshow": {
     "slide_type": "fragment"
    }
   },
   "source": [
    "There's one additional wrinkle&mdash;2nd order codes tend to produce oscillations near discontinuities, so we usually need to _limit_ the slopes, $\\Delta q_i$, so we don't introduce new minima or maxima in the evolution.  We'll use the minmod limiter:\n",
    "$$\n",
    "\\begin{equation}                                                                                                         \n",
    "\\left . \\frac{\\partial a}{\\partial x} \\right |_i = \\mathtt{minmod} \\left (                                               \n",
    "  \\frac{a_i - a_{i-1}}{\\Delta x}, \\frac{a_{i+1} - a_i}{\\Delta x} \\right )                                                \n",
    "\\end{equation}\n",
    "$$\n",
    "with \n",
    "$$\n",
    "\\begin{equation}                                                                                                         \n",
    "\\mathtt{minmod}(a,b) = \\left \\{                                                                                          \n",
    "    \\begin{array}{ll}                                                                                                    \n",
    "    a & \\mathit{if~} |a| < |b| \\mathrm{~and~} a\\cdot b > 0 \\\\                                                            \n",
    "    b & \\mathit{if~} |b| < |a| \\mathrm{~and~} a\\cdot b > 0 \\\\                                                            \n",
    "    0 & \\mathit{otherwise}                                                                                               \n",
    "    \\end{array}                                                                                                          \n",
    "  \\right .                                                                                                               \n",
    "\\end{equation}  \n",
    "$$"
   ]
  },
  {
   "cell_type": "code",
   "execution_count": 27,
   "metadata": {
    "slideshow": {
     "slide_type": "slide"
    }
   },
   "outputs": [],
   "source": [
    "def states(grid, U):\n",
    "    v = FluidVars()\n",
    "    q = cons_to_prim(grid, U)\n",
    "\n",
    "    # construct the slopes\n",
    "    dq = grid.scratch_array(nc=v.nvar)\n",
    "\n",
    "    for n in range(v.nvar):        \n",
    "        dl = grid.scratch_array()\n",
    "        dr = grid.scratch_array()\n",
    "\n",
    "        dl[grid.lo-1:grid.hi+2] = q[grid.lo:grid.hi+3,n] - q[grid.lo-1:grid.hi+2,n]\n",
    "        dr[grid.lo-1:grid.hi+2] = q[grid.lo-1:grid.hi+2,n] - q[grid.lo-2:grid.hi+1,n]\n",
    "\n",
    "        # these where's do a minmod()\n",
    "        d1 = np.where(np.fabs(dl) < np.fabs(dr), dl, dr)\n",
    "        dq[:, n] = np.where(dl*dr > 0.0, d1, 0.0)\n",
    "\n",
    "    # now make the states\n",
    "    q_l = grid.scratch_array(nc=v.nvar)\n",
    "    q_l[grid.lo:grid.hi+2, :] = q[grid.lo-1:grid.hi+1, :] + 0.5*dq[grid.lo-1:grid.hi+1, :]\n",
    "\n",
    "    q_r = grid.scratch_array(nc=v.nvar)\n",
    "    q_r[grid.lo:grid.hi+2, :] = q[grid.lo:grid.hi+2, :] - 0.5*dq[grid.lo:grid.hi+2, :]\n",
    "    \n",
    "    return q_l, q_r"
   ]
  },
  {
   "cell_type": "markdown",
   "metadata": {
    "slideshow": {
     "slide_type": "slide"
    }
   },
   "source": [
    "## Riemann problem and conservative update\n",
    "\n",
    "After doing our reconstruction, we are left with a left and right state on an interface.  To find the unique fluid state on the interface, we solve a _Riemann problem_, \n",
    "$$q_{i+1/2} = \\mathcal{R}(q_{i+1/2,L},q_{i+1/2,R})$$\n",
    "\n",
    "We could spend an entire day talking about how to solve the Riemann problem.  Well just summarize things here.  "
   ]
  },
  {
   "cell_type": "markdown",
   "metadata": {
    "slideshow": {
     "slide_type": "slide"
    }
   },
   "source": [
    "At each interface, we have a left and right state.  Information about the jump across this interface will be carried away from the interface by the 3 hydrodynamic waves ($u$ and $u\\pm c$).\n",
    "\n",
    "![Riemann solution structure](https://github.com/python-hydro/how_to_write_a_hydro_code/blob/master/riemann-waves.png?raw=true)\n",
    "The solution to the Riemann problem that we need is the state on the interface--with that we can evaluate the flux through the interface.  "
   ]
  },
  {
   "cell_type": "markdown",
   "metadata": {
    "slideshow": {
     "slide_type": "slide"
    }
   },
   "source": [
    "To solve the Riemann problem, we need to know how much each variable changes across each of the three waves.  To complicate matters, the left and right waves can be either shocks or rarefactions.  The middle wave ($u$) is always a contact discontinuity (and of our primitive variables, only $\\rho$ jumps across it).\n",
    "\n",
    "For a gamma-law gas, we can write down analytic expressions for the change in the primitive variables across both a rarefaction and shock.  We can then solve these to find the state inbetween the left and right waves (the star state) and then compute the wave speeds."
   ]
  },
  {
   "cell_type": "markdown",
   "metadata": {
    "slideshow": {
     "slide_type": "slide"
    }
   },
   "source": [
    "Finally, we can find the solution on the interface by determining which region we are in.\n",
    "\n",
    "<img src=\"https://github.com/python-hydro/how_to_write_a_hydro_code/blob/master/riemann_state.png?raw=true\" alt=\"FV grid\" width=\"600\" /> \n"
   ]
  },
  {
   "cell_type": "markdown",
   "metadata": {
    "slideshow": {
     "slide_type": "slide"
    }
   },
   "source": [
    "We'll use an exact Riemann solver to find the solution on the interface.  There a lot of algebra involved in finding the expressions for the jumps across the waves and the wave speeds, which we'll skip (by see my notes).  Instead we'll just use this solver to give us the state."
   ]
  },
  {
   "cell_type": "markdown",
   "metadata": {},
   "source": [
    "One we have the interface state, we can compute the fluxes using this state:"
   ]
  },
  {
   "cell_type": "code",
   "execution_count": 28,
   "metadata": {},
   "outputs": [],
   "source": [
    "def cons_flux(state, v):\n",
    "    \"\"\" given an interface state, return the conservative flux\"\"\"\n",
    "    flux = np.zeros((v.nvar), dtype=np.float64)\n",
    "\n",
    "    flux[v.urho] = state.rho * state.u\n",
    "    flux[v.umx] = flux[v.urho] * state.u + state.p\n",
    "    flux[v.uener] = (0.5 * state.rho * state.u**2 +\n",
    "                     state.p/(v.gamma - 1.0) + state.p) * state.u\n",
    "    return flux"
   ]
  },
  {
   "cell_type": "code",
   "execution_count": 29,
   "metadata": {
    "slideshow": {
     "slide_type": "slide"
    }
   },
   "outputs": [
    {
     "name": "stdout",
     "output_type": "stream",
     "text": [
      "Help on module riemann_exact:\n",
      "\n",
      "NAME\n",
      "    riemann_exact\n",
      "\n",
      "DESCRIPTION\n",
      "    An exact Riemann solver for the Euler equations with a gamma-law\n",
      "    gas.  The left and right states are stored as State objects.  We then\n",
      "    create a RiemannProblem object with the left and right state:\n",
      "    \n",
      "    > rp = RiemannProblem(left_state, right_state)\n",
      "    \n",
      "    Next we solve for the star state:\n",
      "    \n",
      "    > rp.find_star_state()\n",
      "    \n",
      "    Finally, we sample the solution to find the interface state, which\n",
      "    is returned as a State object:\n",
      "    \n",
      "    > q_int = rp.sample_solution()\n",
      "\n",
      "CLASSES\n",
      "    builtins.object\n",
      "        RiemannProblem\n",
      "        State\n",
      "    \n",
      "    class RiemannProblem(builtins.object)\n",
      "     |  RiemannProblem(left_state, right_state, gamma=1.4)\n",
      "     |  \n",
      "     |  a class to define a Riemann problem.  It takes a left\n",
      "     |  and right state.  Note: we assume a constant gamma\n",
      "     |  \n",
      "     |  Methods defined here:\n",
      "     |  \n",
      "     |  __init__(self, left_state, right_state, gamma=1.4)\n",
      "     |      Initialize self.  See help(type(self)) for accurate signature.\n",
      "     |  \n",
      "     |  find_star_state(self, p_min=0.001, p_max=1000.0)\n",
      "     |      root find the Hugoniot curve to find ustar, pstar\n",
      "     |  \n",
      "     |  rarefaction_solution(self, sgn, state)\n",
      "     |      return the interface solution considering a rarefaction wave\n",
      "     |  \n",
      "     |  sample_solution(self)\n",
      "     |      given the star state (ustar, pstar), find the state on the interface\n",
      "     |  \n",
      "     |  shock_solution(self, sgn, state)\n",
      "     |      return the interface solution considering a shock\n",
      "     |  \n",
      "     |  u_hugoniot(self, p, side)\n",
      "     |      define the Hugoniot curve, u(p).\n",
      "     |  \n",
      "     |  ----------------------------------------------------------------------\n",
      "     |  Data descriptors defined here:\n",
      "     |  \n",
      "     |  __dict__\n",
      "     |      dictionary for instance variables\n",
      "     |  \n",
      "     |  __weakref__\n",
      "     |      list of weak references to the object\n",
      "    \n",
      "    class State(builtins.object)\n",
      "     |  State(p=1.0, u=0.0, rho=1.0)\n",
      "     |  \n",
      "     |  a simple object to hold a primitive variable state\n",
      "     |  \n",
      "     |  Methods defined here:\n",
      "     |  \n",
      "     |  __init__(self, p=1.0, u=0.0, rho=1.0)\n",
      "     |      Initialize self.  See help(type(self)) for accurate signature.\n",
      "     |  \n",
      "     |  __str__(self)\n",
      "     |      Return str(self).\n",
      "     |  \n",
      "     |  ----------------------------------------------------------------------\n",
      "     |  Data descriptors defined here:\n",
      "     |  \n",
      "     |  __dict__\n",
      "     |      dictionary for instance variables\n",
      "     |  \n",
      "     |  __weakref__\n",
      "     |      list of weak references to the object\n",
      "\n",
      "FUNCTIONS\n",
      "    cons_flux(state, v)\n",
      "        given an interface state, return the conservative flux\n",
      "\n",
      "FILE\n",
      "    /Users/tabel/Library/Mobile Documents/com~apple~CloudDocs/Teaching/360/tutorials/riemann_exact.py\n",
      "\n",
      "\n"
     ]
    }
   ],
   "source": [
    "import riemann_exact as re\n",
    "help(re)"
   ]
  },
  {
   "cell_type": "markdown",
   "metadata": {
    "slideshow": {
     "slide_type": "slide"
    }
   },
   "source": [
    "For a method-of-lines approach, we want to just compute the righthand side, $A = -\\partial F/\\partial x$.  Then we will turn our PDE into an ODE for time:\n",
    "$$\\frac{\\partial \\langle U\\rangle_i}{\\partial t} = -A_i = - \\frac{F_{i+1/2} - F_{i-1/2}}{\\Delta x}$$\n",
    "\n",
    "We can then use any ODE integration method, like Runge-Kutta to solve the system."
   ]
  },
  {
   "cell_type": "markdown",
   "metadata": {
    "slideshow": {
     "slide_type": "slide"
    }
   },
   "source": [
    "This routine will take the conserved state, $U$, construct the left and right states at all interfaces, solve the Riemann problem to get the unique state on the boundary, and then compute the advective term and return it."
   ]
  },
  {
   "cell_type": "code",
   "execution_count": 30,
   "metadata": {
    "slideshow": {
     "slide_type": "fragment"
    }
   },
   "outputs": [],
   "source": [
    "def make_flux_divergence(grid, U):\n",
    "    \n",
    "    v = FluidVars()\n",
    "    \n",
    "    # get the states\n",
    "    q_l, q_r = states(grid, U)\n",
    "\n",
    "    # now solve the Riemann problem\n",
    "    flux = grid.scratch_array(nc=v.nvar)\n",
    "    for i in range(grid.lo, grid.hi+2):\n",
    "        sl = re.State(rho=q_l[i,v.qrho], u=q_l[i,v.qu], p=q_l[i,v.qp])\n",
    "        sr = re.State(rho=q_r[i,v.qrho], u=q_r[i,v.qu], p=q_r[i,v.qp])\n",
    "        rp = re.RiemannProblem(sl, sr, gamma=v.gamma)\n",
    "        rp.find_star_state()\n",
    "        q_int = rp.sample_solution()\n",
    "        flux[i, :] = cons_flux(q_int, v)\n",
    "\n",
    "    A = grid.scratch_array(nc=v.nvar)\n",
    "    for n in range(v.nvar):\n",
    "        A[grid.lo:grid.hi+1, n] = (flux[grid.lo:grid.hi+1, n] -\n",
    "                                   flux[grid.lo+1:grid.hi+2, n])/grid.dx\n",
    "\n",
    "    return A"
   ]
  },
  {
   "cell_type": "markdown",
   "metadata": {
    "slideshow": {
     "slide_type": "slide"
    }
   },
   "source": [
    "## Timestep\n",
    "\n",
    "Explicit hydro codes have a restriction on the size of the timestep.  We cannot allow information to move more than one zone per step.  For the hydro equations, the speeds at which information travels are $u$ and $u \\pm c$, so we use the largest speed here to compute the timestep."
   ]
  },
  {
   "cell_type": "code",
   "execution_count": 31,
   "metadata": {
    "slideshow": {
     "slide_type": "fragment"
    }
   },
   "outputs": [],
   "source": [
    "def timestep(grid, U):\n",
    "\n",
    "    v = FluidVars()\n",
    "    \n",
    "    # compute the sound speed\n",
    "    q = cons_to_prim(grid, U)\n",
    "    c = grid.scratch_array()\n",
    "    c[grid.lo:grid.hi+1] = np.sqrt(v.gamma *\n",
    "                                   q[grid.lo:grid.hi+1,v.qp] /\n",
    "                                   q[grid.lo:grid.hi+1,v.qrho])\n",
    "\n",
    "    dt = v.C * grid.dx / (np.abs(q[grid.lo:grid.hi+1, v.qu]) +\n",
    "                          c[grid.lo:grid.hi+1]).max()\n",
    "    return dt"
   ]
  },
  {
   "cell_type": "markdown",
   "metadata": {
    "slideshow": {
     "slide_type": "slide"
    }
   },
   "source": [
    "## Main driver\n",
    "\n",
    "This is the main driver.  For simplicity, I've hardcoded the initial conditions here for the standard Sod problem.  Usually those would be a separate routine.\n",
    "\n",
    "This does 2nd-order RK (or Euler's method) for the integration, and requires that we compute the advection terms twice to advance the solution by $\\Delta t$.  The update looks like:\n",
    "$$\n",
    "\\begin{align*}\n",
    "U^\\star &= U^n + \\frac{\\Delta t}{2} A(U^n) \\\\\n",
    "U^{n+1} &= U^n + \\Delta t A(U^\\star)\n",
    "\\end{align*}\n",
    "$$"
   ]
  },
  {
   "cell_type": "code",
   "execution_count": 32,
   "metadata": {
    "slideshow": {
     "slide_type": "slide"
    }
   },
   "outputs": [],
   "source": [
    "def mol_solve(nx, tmax=1.0, init_cond=None):\n",
    "    \"\"\"Perform 2nd order MOL integration of the Euler equations.\n",
    "    You need to pass in a function foo(grid) that returns the \n",
    "    initial conserved fluid state.\"\"\"\n",
    "\n",
    "    grid = FVGrid(nx, 2)\n",
    "    v = FluidVars()\n",
    "    \n",
    "    U = init_cond(grid)\n",
    "    \n",
    "    t = 0.0\n",
    "    \n",
    "    while t < tmax:\n",
    "        dt = timestep(grid, U)\n",
    "        if t + dt > tmax:\n",
    "            dt = tmax - t\n",
    "\n",
    "        grid.fill_BCs(U)\n",
    "        k1 = make_flux_divergence(grid, U)\n",
    "\n",
    "        U_tmp = grid.scratch_array(nc=v.nvar)\n",
    "        for n in range(v.nvar):\n",
    "            U_tmp[:, n] = U[:, n] + 0.5 * dt * k1[:, n]\n",
    "\n",
    "        grid.fill_BCs(U_tmp)\n",
    "        k2 = make_flux_divergence(grid, U_tmp)\n",
    "\n",
    "        for n in range(v.nvar):\n",
    "            U[:, n] += dt * k2[:, n]\n",
    "\n",
    "        t += dt\n",
    "\n",
    "    return grid, U"
   ]
  },
  {
   "cell_type": "markdown",
   "metadata": {
    "slideshow": {
     "slide_type": "slide"
    }
   },
   "source": [
    "## Example: Sod's problem\n",
    "\n",
    "The Sod problem is a standard test problem, consisting of a left and right state separated by an initial discontinuity.  As time evolves, a rightward moving shock and contact and leftward moving rarefaction form.\n",
    "\n",
    "One reason this problem is so popular is that you can find the exact solution (it's just the Riemann problem) and compare the performance of your code to the exact solution."
   ]
  },
  {
   "cell_type": "code",
   "execution_count": 33,
   "metadata": {
    "slideshow": {
     "slide_type": "slide"
    }
   },
   "outputs": [],
   "source": [
    "def sod(grid):\n",
    "    \n",
    "    v = FluidVars()\n",
    "    U = grid.scratch_array(nc=v.nvar)\n",
    "    \n",
    "    # setup initial conditions -- this is Sod's problem\n",
    "    rho_l = 1.0\n",
    "    u_l = 0.0\n",
    "    p_l = 1.0\n",
    "    rho_r = 0.125\n",
    "    u_r = 0.0\n",
    "    p_r = 0.1\n",
    "\n",
    "    idx_l = grid.x < 0.5\n",
    "    idx_r = grid.x >= 0.5\n",
    "\n",
    "    U[idx_l, v.urho] = rho_l\n",
    "    U[idx_l, v.umx] =  rho_l * u_l\n",
    "    U[idx_l, v.uener] = p_l/(v.gamma - 1.0) + 0.5 * rho_l * u_l**2\n",
    "\n",
    "    U[idx_r, v.urho] = rho_r\n",
    "    U[idx_r, v.umx] =  rho_r * u_r\n",
    "    U[idx_r, v.uener] = p_r/(v.gamma - 1.0) + 0.5 * rho_r * u_r**2\n",
    "    \n",
    "    return U"
   ]
  },
  {
   "cell_type": "code",
   "execution_count": 34,
   "metadata": {
    "slideshow": {
     "slide_type": "slide"
    }
   },
   "outputs": [],
   "source": [
    "g, U = mol_solve(128, tmax=0.2, init_cond=sod)"
   ]
  },
  {
   "cell_type": "code",
   "execution_count": 37,
   "metadata": {
    "slideshow": {
     "slide_type": "fragment"
    }
   },
   "outputs": [],
   "source": [
    "import matplotlib.pyplot as plt\n",
    "plt.rcParams['figure.dpi'] = 100\n",
    "plt.rcParams['figure.figsize'] = [8, 6]"
   ]
  },
  {
   "cell_type": "code",
   "execution_count": 38,
   "metadata": {
    "slideshow": {
     "slide_type": "fragment"
    }
   },
   "outputs": [],
   "source": [
    "sod = np.genfromtxt(\"sod-exact.out\", skip_header=2, names=True)"
   ]
  },
  {
   "cell_type": "code",
   "execution_count": 39,
   "metadata": {
    "slideshow": {
     "slide_type": "slide"
    }
   },
   "outputs": [
    {
     "data": {
      "text/plain": [
       "[<matplotlib.lines.Line2D at 0x12c628310>]"
      ]
     },
     "execution_count": 39,
     "metadata": {},
     "output_type": "execute_result"
    },
    {
     "data": {
      "image/png": "[encoded data removed]",
      "text/plain": [
       "<Figure size 800x600 with 1 Axes>"
      ]
     },
     "metadata": {},
     "output_type": "display_data"
    }
   ],
   "source": [
    "v = FluidVars()\n",
    "plt.scatter(g.x, U[:,v.urho], marker=\"x\", color=\"C0\")\n",
    "plt.plot(sod[\"x\"], sod[\"rho\"], color=\"C1\")"
   ]
  },
  {
   "cell_type": "markdown",
   "metadata": {},
   "source": [
    "## Exercises"
   ]
  },
  {
   "cell_type": "markdown",
   "metadata": {
    "slideshow": {
     "slide_type": "slide"
    }
   },
   "source": [
    "1. Run the problem without limiting the slopes to see how it compares\n",
    "\n",
    "2. Try a higher-order Runge-Kutta time integration methods to see how the problem changes\n",
    "\n",
    "3. Implement periodic boundary conditions and create a new set of initial conditions that just puts a low amplitude Gaussian pulse&mdash;this will create an acoustic wave that propagates through the domain."
   ]
  },
  {
   "cell_type": "code",
   "execution_count": null,
   "metadata": {},
   "outputs": [],
   "source": []
  }
 ],
 "metadata": {
  "kernelspec": {
   "display_name": "Pytthon 3.11 (pyroEnv)",
   "language": "python",
   "name": "pyroenv"
  },
  "language_info": {
   "codemirror_mode": {
    "name": "ipython",
    "version": 3
   },
   "file_extension": ".py",
   "mimetype": "text/x-python",
   "name": "python",
   "nbconvert_exporter": "python",
   "pygments_lexer": "ipython3",
   "version": "3.11.11"
  }
 },
 "nbformat": 4,
 "nbformat_minor": 4
}
